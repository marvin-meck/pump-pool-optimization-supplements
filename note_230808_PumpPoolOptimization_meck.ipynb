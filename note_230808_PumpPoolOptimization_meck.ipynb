{
 "cells": [
  {
   "cell_type": "markdown",
   "id": "b64f48a6",
   "metadata": {
    "slideshow": {
     "slide_type": "slide"
    }
   },
   "source": [
    "# A Set-Covering Approach to Minimize the Variety of Standard Chemical Process Pumps in Equipment Pools"
   ]
  },
  {
   "cell_type": "markdown",
   "id": "c124841f-3911-4848-9708-923e7d909201",
   "metadata": {},
   "source": [
    "## Abstract"
   ]
  },
  {
   "cell_type": "markdown",
   "id": "1875ac8c-eba9-4163-ac54-b6c26c466c1a",
   "metadata": {},
   "source": [
    "A decision framework is presented to minimize the number of distinct ISO 2858 compliant standard chemical process pumps in an equipment pool. \n",
    "Two model variants are introduced: (i) the set cover problem to find the minimum number of ISO-sizes required to meet a given set of specifications, and (ii) the maximum coverage problem to allow for a trade-off to be made between application coverage and equipment variety in the pump pool. \n",
    "The decision-models are applied to a data set containing specifications for pumping applications provided by Evonik Operations GmbH. \n",
    "A kernel density estimator is trained using that data to provide a non-parametric generative model that is used to anticipate likely future specifications for which a pump pool is to be set up. \n",
    "The decision framework is applied for a generated sample of 3268 applications choosing from 68 available ISO sizes. \n",
    "The results suggest, that equipment pools comprising just a subset of all available ISO-sizes may be sufficient to cover a broad range of applications. \n",
    "Specifically, in our case study 36 out of 68 standard pumps cover 95% of all applications suitable for standard chemical process pumps; which is 62% of the total specifications sample generated. \n",
    "Numerically, we found the model to scale well with overall problem size. \n",
    "The entire data processing pipeline including all pre-processing of data can be executed in the order of a few seconds on standard laptop computer hardware, making the approach computational tractable even for large scale industrial analyses. \n",
    "By including an established model of the centrifugal pump operating ranges taken from a dimensioning tool developed at German chemical industry association VCI, we eliminate the need for further specialized software and minimize equipment-data requirements. \n",
    "Thus, we provide a simple, clear and concise model that equipment managers can readily integrate in their workflows."
   ]
  },
  {
   "cell_type": "code",
   "execution_count": null,
   "id": "62a9af11-7e21-4c82-b1ba-9dc71cede989",
   "metadata": {},
   "outputs": [],
   "source": [
    "import os\n",
    "from datetime import datetime\n",
    "from pathlib import Path\n",
    "\n",
    "DATA_DIR = Path(r\"./data/\")\n",
    "OUT_DIR = Path(r\"./{}_results/\".format(datetime.today().strftime('%y%m%d')))\n",
    "\n",
    "if not os.path.exists(OUT_DIR):\n",
    "    os.mkdir(OUT_DIR)"
   ]
  },
  {
   "cell_type": "markdown",
   "id": "a3d7cb73",
   "metadata": {
    "slideshow": {
     "slide_type": "slide"
    }
   },
   "source": [
    "## PiC LF03: Guideline on centrifugal pump units\n",
    "\n",
    "Following the VCI (German chemical industry association) guideline on centrifugal pump units (PiC LF03), maximum rages for continuous operation can be estimated for each ISO standard size. \n",
    "Within this guide size-spezific and speed-specific ranges for contiuous operation (useful hydraulic ranges) are defined through four simultaneous linear inequalities; the intersects of which can be obtained for each size and speed designation from a supplementary *Microsoft Execl Dimensioning Tool*. \n",
    "The dimensioning tool is available for download from the [VCI website](https://www.vci.de/services/leitfaeden/kreiselpumpenaggregate-lf03-anwendung-bewertung-strategien-gemaess-din-en-iso-2858-vci-leitfaden.jsp). \n",
    "Subsequent steps within our framework require the location of those intersects given as concrete numerical values. \n",
    "A unitilty command line script `init.py` extracts the data given within the dimensioning tool and writes them into a `csv`-file.   "
   ]
  },
  {
   "cell_type": "markdown",
   "id": "baf3b800-d024-423b-ace3-802504d9ad00",
   "metadata": {},
   "source": [
    "#### Exemplary usage\n",
    "```shell\n",
    "python -m scripts.init -i data/2020-08-05-lf03-anhang-a-berechnungsblatt.xls\n",
    "```"
   ]
  },
  {
   "cell_type": "code",
   "execution_count": null,
   "id": "62a77f3f-71f4-464e-84d1-75e36bc12b17",
   "metadata": {},
   "outputs": [],
   "source": [
    "!python -m scripts.init --help"
   ]
  },
  {
   "cell_type": "markdown",
   "id": "5770013e-941b-4c6d-8462-757d5402bc78",
   "metadata": {},
   "source": [
    "### File contents"
   ]
  },
  {
   "cell_type": "code",
   "execution_count": null,
   "id": "e7e5a7f2",
   "metadata": {
    "slideshow": {
     "slide_type": "subslide"
    }
   },
   "outputs": [],
   "source": [
    "import pandas as pd\n",
    "\n",
    "iso = pd.read_csv(\n",
    "    DATA_DIR / \"2020-08-05-lf03-anhang-a-berechnungsblatt.csv\",\n",
    "    sep=\",\",\n",
    "    index_col=\"register\"\n",
    ") \n",
    "iso.head()"
   ]
  },
  {
   "cell_type": "markdown",
   "id": "bc3146ef-7be9-4f7c-b7ce-98103bdca038",
   "metadata": {},
   "source": [
    "### Visualization of *useful hydraulic ranges*"
   ]
  },
  {
   "cell_type": "code",
   "execution_count": null,
   "id": "90a5e33a-28ef-44ca-913a-c51e7dc183af",
   "metadata": {},
   "outputs": [],
   "source": [
    "import ipywidgets as widgets\n",
    "import matplotlib.pyplot as plt\n",
    "from scripts.plot import _draw_reverse_engineered_region"
   ]
  },
  {
   "cell_type": "code",
   "execution_count": null,
   "id": "85460790-7cf2-4f14-9fd0-cca1ff56486c",
   "metadata": {},
   "outputs": [],
   "source": [
    "dropdown = widgets.Dropdown(\n",
    "    options=iso.index.to_list(),\n",
    "    value='R01',\n",
    "    description='register:',\n",
    "    disabled=False,\n",
    ")\n",
    "output = widgets.Output()\n",
    "\n",
    "def on_value_change(change):\n",
    "    with output:\n",
    "        fig = plt.figure()\n",
    "        ax = fig.gca()\n",
    "        _draw_reverse_engineered_region(iso, change[\"new\"], ax, color='black', linestyle='-',marker='None')\n",
    "        _ = ax.set_xlabel(\"FLOW RATE $Q$ in $\\mathrm{m}^3 / \\mathrm{h}$\")\n",
    "        _ = ax.set_ylabel(\"HEAD $H$ in $\\mathrm{m}$\")\n",
    "        ax.spines[['right', 'top']].set_visible(False)\n",
    "        output.clear_output()\n",
    "        plt.show()\n",
    "\n",
    "dropdown.observe(on_value_change, names='value')"
   ]
  },
  {
   "cell_type": "code",
   "execution_count": null,
   "id": "6ebe3ee0-8f37-443b-bdd2-35784faee6d9",
   "metadata": {},
   "outputs": [],
   "source": [
    "display(dropdown,output)"
   ]
  },
  {
   "cell_type": "code",
   "execution_count": null,
   "id": "1af9e98f-606b-42c2-9d95-d7db6f7e82b1",
   "metadata": {},
   "outputs": [],
   "source": [
    "from scripts.plot import gen_fig_ranges_overview"
   ]
  },
  {
   "cell_type": "code",
   "execution_count": null,
   "id": "df843a54",
   "metadata": {
    "slideshow": {
     "slide_type": "skip"
    }
   },
   "outputs": [],
   "source": [
    "fig = gen_fig_ranges_overview()"
   ]
  },
  {
   "cell_type": "markdown",
   "id": "47d67308-a59b-4b87-a6d6-06c2c660e414",
   "metadata": {},
   "source": [
    "## Specifications sample\n",
    "\n",
    "Given a known design point and an ISO standard size it can be determined whether the pump unit can cover that application or not. \n",
    "In order to minimize pool variety we wish to solve the set cover and maximum coverage problems respectively for a list of applications. \n",
    "This list can be given by a known set of specifications or obtained by sampling from a generative model. \n",
    "In our case study, we followed the latter approach. "
   ]
  },
  {
   "cell_type": "markdown",
   "id": "f6c10d8e-e3f5-43c2-b671-ab14bb311a1a",
   "metadata": {},
   "source": [
    "### Kernel density estimation\n",
    "\n",
    "A kernel density estimator (KDE) is trained from a set of given specifications. \n",
    "The KDE provides a non-parametric model from which new specifications can be generated. \n",
    "This allows for a larger sample to be treated than with the original data. \n",
    "The command line script `sample.py` generates such a sample from a tabulated set of specifications, that is flow rate, head and kin. viscosity tuples.  "
   ]
  },
  {
   "cell_type": "markdown",
   "id": "01240552-b779-4ca5-af0c-a92c84fb0cea",
   "metadata": {},
   "source": [
    "#### Exemplary usage\n",
    "```shell\n",
    "python scripts/sample.py -m odbc -c ./.config/pyodbc.yaml -q ./.config/query.sql  -n 5000\n",
    "```"
   ]
  },
  {
   "cell_type": "code",
   "execution_count": null,
   "id": "09f42327-a84e-44a9-b505-123fc1810c75",
   "metadata": {},
   "outputs": [],
   "source": [
    "!python -m scripts.sample --help"
   ]
  },
  {
   "cell_type": "markdown",
   "id": "fbaa0355-cf8b-42ca-87d1-30cc3437b558",
   "metadata": {},
   "source": [
    "**Note**: In this notebook, we did not generate a new sample but reused the existing sample from the `results` directory in order to reproduce the rest of the results deterministically. "
   ]
  },
  {
   "cell_type": "code",
   "execution_count": null,
   "id": "7208837d-dee5-449d-9948-618546c74c7e",
   "metadata": {},
   "outputs": [],
   "source": [
    "data_sampled = pd.read_csv(Path(r\"results/data_231009_sample.csv\"), index_col=\"element_id\")\n",
    "data_sampled.head()"
   ]
  },
  {
   "cell_type": "markdown",
   "id": "ffa7e4f8-226f-41cd-a736-5d50ead5951f",
   "metadata": {},
   "source": [
    "### Preprocessing"
   ]
  },
  {
   "cell_type": "markdown",
   "id": "60bdda9a",
   "metadata": {
    "slideshow": {
     "slide_type": "fragment"
    }
   },
   "source": [
    "Solving both the set cover and the maximum coverage problem requires providing the 0/1-values of the characteristic vectors $\\{a_{ij}\\}_{i=1}^N$ of sets $S_j$, i.e. which applications fall within the ranges of which pump size designation $j = 1,\\dots,M$. \n",
    "This is done using the `preprocess.py` script. \n",
    "It writes a *Pyomo Data Command File* for the set cover problem given a list of flow rate, head and viscosity specifications $j$. \n",
    "Specifications that fall outside any of the useful hydraulic ranges or lie outside a viscosity range of $\\nu < 10 \\, \\mathrm{cS}$ are rejected. \n",
    "Accepted and rejected parts of the sample are documented in a `csv`-file `<path-to>/data_yymmdd_elements.csv`, where `yymmdd` is the date format of the date of execution. \n",
    "If `data_yymmdd_elements.csv` already exists it is read and not overwritten. \n",
    "The output directory `<path-to>` is taken from the `OUTPUT` argument (directory of the `.dat`-file) specified."
   ]
  },
  {
   "cell_type": "markdown",
   "id": "bf686cf6-805e-41d1-b6da-ea15e6336aa7",
   "metadata": {},
   "source": [
    "#### Exemplary usage\n",
    "```shell\n",
    "python -m scripts.preprocess -i ./results/data_231009_sample.csv -o ./out/data_231121_set_cover.dat\n",
    "```"
   ]
  },
  {
   "cell_type": "code",
   "execution_count": null,
   "id": "43aa4845-4a2a-4517-a182-2a8576b1c51b",
   "metadata": {},
   "outputs": [],
   "source": [
    "sample = Path(r\"./results/data_231009_sample.csv\")\n",
    "out = OUT_DIR / \"data_{}_set_cover.dat\".format(datetime.today().strftime('%y%m%d'))\n",
    "\n",
    "!python -m scripts.preprocess -i {sample} -o {out}"
   ]
  },
  {
   "cell_type": "code",
   "execution_count": null,
   "id": "c7d6f27b-a9d9-4abd-a013-52d17d5f2959",
   "metadata": {},
   "outputs": [],
   "source": [
    "fname = OUT_DIR / \"data_{}_elements.csv\".format(datetime.today().strftime('%y%m%d'))\n",
    "data_sampled = pd.read_csv(fname, index_col=\"element_id\")\n",
    "elements = data_sampled[data_sampled[\"mask_total\"]]\n",
    "elements.head()"
   ]
  },
  {
   "cell_type": "code",
   "execution_count": null,
   "id": "390d3e58-3938-49d8-bd7d-0e14b200bab9",
   "metadata": {},
   "outputs": [],
   "source": [
    "print(\"total sample: {}\\nwithin the viscosity constraints: {}\\nwithin any `useful hydraulic range`: {}\\naccepted: {}\".format(\n",
    "        data_sampled.shape[0],\n",
    "        data_sampled[\"mask_viscosity\"].sum(),\n",
    "        data_sampled[\"mask_coverage\"].sum(),\n",
    "        data_sampled[\"mask_total\"].sum()\n",
    "    )\n",
    ")"
   ]
  },
  {
   "cell_type": "markdown",
   "id": "110fb177-984f-4157-9c9c-377c32a6edda",
   "metadata": {},
   "source": [
    "### Visualization of sample data"
   ]
  },
  {
   "cell_type": "code",
   "execution_count": null,
   "id": "6c6b82eb",
   "metadata": {
    "slideshow": {
     "slide_type": "subslide"
    }
   },
   "outputs": [],
   "source": [
    "from scripts.plot import gen_fig_sample\n",
    "\n",
    "fig = gen_fig_sample(\n",
    "        fname_elements=OUT_DIR / \"data_{}_elements.csv\".format(datetime.today().strftime('%y%m%d'))\n",
    "    )"
   ]
  },
  {
   "cell_type": "markdown",
   "id": "236607ec",
   "metadata": {
    "slideshow": {
     "slide_type": "slide"
    }
   },
   "source": [
    "## Set Cover Problem\n",
    "\n",
    "$$\n",
    "\\begin{aligned}\n",
    "    \\min            &\\quad \\sum_{i = 1}^{M} x_i \\\\\n",
    "    \\mathrm{s.t.}   &\\quad \\sum_{j = 1}^{M} a_{kj} x_j \\geq 1 \\qquad \\forall k = 1,\\ldots,N\\\\\n",
    "                    &\\quad x_i \\in \\{0,1\\} \\qquad \\forall i = 1,\\ldots,M\n",
    "\\end{aligned}\n",
    "$$"
   ]
  },
  {
   "cell_type": "markdown",
   "id": "2b29d016-4083-48df-93ca-901e3ba8745c",
   "metadata": {
    "scrolled": true
   },
   "source": [
    "#### Exemplary usage\n",
    "\n",
    "The set cover problem is solved calling the `pyomo` command from the command line (see [Pyomo Documentation](https://pyomo.readthedocs.io/en/stable/working_abstractmodels/pyomo_command.html)).  \n",
    "```shell\n",
    "pyomo solve --solver=gurobi --save-results=out/results_example_set_cover.yaml model_set_cover.py data/example_set_cover.dat\n",
    "```"
   ]
  },
  {
   "cell_type": "code",
   "execution_count": null,
   "id": "7c25f897-d8b0-493d-83a4-9c2979744b82",
   "metadata": {},
   "outputs": [],
   "source": [
    "data = OUT_DIR / \"data_{}_set_cover.dat\".format(datetime.today().strftime('%y%m%d'))\n",
    "out = OUT_DIR / \"results_{}_set_cover.yaml\".format(datetime.today().strftime('%y%m%d'))\n",
    "\n",
    "!pyomo solve --solver=gurobi --save-results {out} model_set_cover.py {data}"
   ]
  },
  {
   "cell_type": "markdown",
   "id": "2bf3814c-9eaf-40d9-99a3-7bc99fa725a7",
   "metadata": {
    "slideshow": {
     "slide_type": "slide"
    }
   },
   "source": [
    "## Maximum Coverage Problem\n",
    "\n",
    "$$\n",
    "\\begin{aligned}\n",
    "    \\max            &\\quad z = \\sum_{i = 1}^{N} y_i \\\\\n",
    "    \\mathrm{s.t.}   &\\quad \\sum_{j = 1}^{M} a_{kj} x_j \\geq y_k \\qquad \\forall k = 1,\\ldots,N\\\\\n",
    "                    &\\quad \\sum_{j = 1}^{M} x_j \\leq K \\\\\\\n",
    "                    &\\quad x_i \\in \\{0,1\\} \\qquad \\forall i = 1,\\ldots,M \\\\\n",
    "                    &\\quad y_i \\in \\{0,1\\} \\qquad \\forall i = 1,\\ldots,N \\\\\n",
    "\\end{aligned}\n",
    "$$"
   ]
  },
  {
   "cell_type": "markdown",
   "id": "556fdd68-babe-4e11-a0f0-266f9e919ecd",
   "metadata": {
    "slideshow": {
     "slide_type": "subslide"
    }
   },
   "source": [
    "#### Exemplary usage\n",
    "\n",
    "The maximum coverage problem, similarly, is also solved calling the `pyomo` command from the command line (see [Pyomo Documentation](https://pyomo.readthedocs.io/en/stable/working_abstractmodels/pyomo_command.html)).  "
   ]
  },
  {
   "cell_type": "markdown",
   "id": "1189fab1-18f8-4560-952f-688b56da3e36",
   "metadata": {},
   "source": [
    "Solving the maximum coverage problem requires specifying a value for the parameter $K$ (`max_num_sets`) used in formulating the cardinality constraint. \n",
    "All other data can be imported from the *data command file* written to solve the set cover problem. "
   ]
  },
  {
   "cell_type": "code",
   "execution_count": null,
   "id": "b53ba3ca-dfa5-418d-b401-52551aadc560",
   "metadata": {},
   "outputs": [],
   "source": [
    "for k in [10,25,50]:\n",
    "    fname = OUT_DIR / \"data_{}_maximum_coverage_{}.dat\".format(datetime.today().strftime('%y%m%d'),k)\n",
    "    with open(fname,\"w+\") as f:\n",
    "        f.write(\"include \\\"{}/data_{}_set_cover.dat\\\";\\n\".format(OUT_DIR.as_posix(),datetime.today().strftime('%y%m%d')))\n",
    "        f.write(\"param max_num_sets := {};\\n\".format(k))"
   ]
  },
  {
   "cell_type": "markdown",
   "id": "b0a604c3-1e3d-4cac-b79f-d0c9f3ab3df5",
   "metadata": {},
   "source": [
    "The problem is then solved by calling, for instance,\n",
    "```shell\n",
    "pyomo solve --solver=gurobi --save-results=out/results_example_maximum_coverage.yaml model_maximum_coverage.py data/example_maximum_coverage.dat\n",
    "```"
   ]
  },
  {
   "cell_type": "code",
   "execution_count": null,
   "id": "36a8a1b8-5ec0-4ae6-8ed6-5b58998061af",
   "metadata": {},
   "outputs": [],
   "source": [
    "data = OUT_DIR / \"data_{}_maximum_coverage_25.dat\".format(datetime.today().strftime('%y%m%d'))\n",
    "out = OUT_DIR / \"results_{}_maximum_coverage_25.yaml\".format(datetime.today().strftime('%y%m%d'))\n",
    "\n",
    "!pyomo solve --solver=gurobi --save-results {out} model_maximum_coverage.py {data}"
   ]
  },
  {
   "cell_type": "markdown",
   "id": "de6a05cd-4d7f-4316-b9b6-fd6fed6ffba8",
   "metadata": {},
   "source": [
    "#### Visualization of solutions to the maximum coverage problem"
   ]
  },
  {
   "cell_type": "code",
   "execution_count": null,
   "id": "a0dec3ca",
   "metadata": {
    "slideshow": {
     "slide_type": "skip"
    }
   },
   "outputs": [],
   "source": [
    "from scripts.plot import gen_fig_solution"
   ]
  },
  {
   "cell_type": "code",
   "execution_count": null,
   "id": "94619025-c43c-42df-a3b9-00151d0393fe",
   "metadata": {},
   "outputs": [],
   "source": [
    "fig = gen_fig_solution(\n",
    "    fname_sol=OUT_DIR/\"results_{}_maximum_coverage_25.yaml\".format(datetime.today().strftime('%y%m%d')),\n",
    "    fname_elements=OUT_DIR/\"data_{}_elements.csv\".format(datetime.today().strftime('%y%m%d'))\n",
    ")"
   ]
  },
  {
   "cell_type": "markdown",
   "id": "9a598cec-fd7c-4693-b65c-016b631cc12c",
   "metadata": {},
   "source": [
    "### Pareto-Plot\n",
    "\n",
    "Solving the *Maximium Coverage Problem* for every integer value $0 < K < \\bar{K}$, where $\\bar{K}$ is the optimal solution of the *Set Cover Problem*, gives a Pareto frontier. \n",
    "The utility script `pareto.py` generate such Pareto frontier. \n",
    "It first solves the *Set Cover Problem* to bound the parameter $K$ above ($\\bar{K}$) and thereafter creates and solves instances of the *Maximium Coverage Problem* for every $0 < K < \\bar{K}$. \n",
    "\n",
    "#### Exemplary usage \n",
    "```shell\n",
    "python -m scripts/pareto.py -i results/data_231009_set_cover.dat -o results/results_231009_pareto_frontier.csv --solver gurobi\n",
    "```"
   ]
  },
  {
   "cell_type": "code",
   "execution_count": null,
   "id": "2d77d5f5-1f30-4d30-bd31-366ccd242595",
   "metadata": {
    "slideshow": {
     "slide_type": "skip"
    }
   },
   "outputs": [],
   "source": [
    "data = OUT_DIR / \"data_{}_set_cover.dat\".format(datetime.today().strftime('%y%m%d'))\n",
    "out = OUT_DIR / \"results_{}_pareto_frontier.csv\".format(datetime.today().strftime('%y%m%d'))\n",
    "\n",
    "!python -m scripts.pareto -i {data} -o {out} --solver gurobi"
   ]
  },
  {
   "cell_type": "code",
   "execution_count": null,
   "id": "fd9d1212",
   "metadata": {
    "slideshow": {
     "slide_type": "subslide"
    }
   },
   "outputs": [],
   "source": [
    "from scripts.plot import gen_pareto_plot\n",
    "fig = gen_pareto_plot(fname=out)"
   ]
  },
  {
   "cell_type": "markdown",
   "id": "a8cf14f3-93d4-4cf7-8d4e-b54b7553dcbf",
   "metadata": {},
   "source": [
    "## Plots shown in the article\n",
    "\n",
    "The final Python script `plot.py` contains code to generate all plots presented within our article. If run as a command line application `plot.py` generates all plots from the results files and saves them in the specified format. \n",
    "To ensure the files are saved provide the `-s` flag. \n",
    "Without it, the plots are generated but not saved (allows for a dry run). \n",
    "All plots are generated using `matplotlib`; the format option is passed to `matplotlib.pyplot.savefig`. \n",
    "\n",
    "### Exemplary usage \n",
    "```shell\n",
    "python -m scripts.plot -s -d figs -f jpg\n",
    "```"
   ]
  },
  {
   "cell_type": "code",
   "execution_count": null,
   "id": "4389d9c5-984c-40b7-b1a2-c69d3cae34a4",
   "metadata": {},
   "outputs": [],
   "source": [
    "config = {\n",
    "        \"ranges_overview\":\"2020-08-05-lf03-anhang-a-berechnungsblatt.csv\",\n",
    "        \"sample\": {\n",
    "            \"fname_elements\":\"results/data_231009_elements.csv\"\n",
    "        },\n",
    "        \"solution\":{\n",
    "            \"fname_sol\":\"results/results_231009_maximum_coverage_25.yaml\",\n",
    "            \"fname_elements\":\"results/data_231009_elements.csv\"\n",
    "        },\n",
    "        \"pareto\":\"results/results_231009_pareto_frontier.csv\"\n",
    "    }"
   ]
  },
  {
   "cell_type": "code",
   "execution_count": null,
   "id": "b5b17ad0-c4e2-41e1-8bee-e85e63e98799",
   "metadata": {},
   "outputs": [],
   "source": [
    "import yaml\n",
    "\n",
    "fname = OUT_DIR/\"config_{}_plots.yaml\".format(datetime.today().strftime('%y%m%d'))\n",
    "\n",
    "with open(fname, \"w+\") as f:\n",
    "    f.write(yaml.safe_dump(config))"
   ]
  },
  {
   "cell_type": "code",
   "execution_count": null,
   "id": "9b7e71da-cd26-466f-a9bf-3b755a315b9f",
   "metadata": {},
   "outputs": [],
   "source": [
    "!python -m scripts.plot -s -d {OUT_DIR} -f jpg --config {fname}"
   ]
  },
  {
   "cell_type": "markdown",
   "id": "b65620fb-bf7b-4249-a55a-4d99e25c4c50",
   "metadata": {},
   "source": [
    "## Computational Study"
   ]
  },
  {
   "cell_type": "code",
   "execution_count": null,
   "id": "708fc908-b0a4-499b-abce-5ec18e3ec16c",
   "metadata": {},
   "outputs": [],
   "source": [
    "import os\n",
    "import yaml\n",
    "import pandas as pd\n",
    "\n",
    "def benchmark(model, data, *solvers, **kwargs):\n",
    "\n",
    "    n = kwargs.get(\"n\", 10)\n",
    "    tmp = kwargs.get(\"tmp\", \"tmp.yaml\")\n",
    "    out = kwargs.get(\"out\", None)\n",
    "    save = kwargs.get(\"save\", False)\n",
    "    \n",
    "    times = pd.DataFrame(index=range(n), columns=solvers)\n",
    "    if save:\n",
    "        if out is None:\n",
    "            raise IOError(\"provide file name to write\")\n",
    "    \n",
    "    for idx in times.index:\n",
    "        for solver in times.columns:\n",
    "            os.system(f\"pyomo solve --solver={solver} --save-results={tmp} {model} {data}\")\n",
    "            with open(tmp,'r') as f:\n",
    "                results = yaml.safe_load(f)\n",
    "            \n",
    "            if (results[\"Solver\"][0][\"Status\"] == \"ok\"):\n",
    "                times.iloc[idx][solver] = results[\"Solver\"][0][\"Time\"]\n",
    "\n",
    "    os.remove(tmp)\n",
    "    \n",
    "    if save:\n",
    "        times.to_csv(out, index=False)\n",
    "\n",
    "    return times"
   ]
  },
  {
   "cell_type": "markdown",
   "id": "8552c070-c8ad-4924-ae07-4880ec77137c",
   "metadata": {},
   "source": [
    "### Benchmarks"
   ]
  },
  {
   "cell_type": "code",
   "execution_count": null,
   "id": "faf5d8b1-1987-4d54-95ba-fe545400ea00",
   "metadata": {},
   "outputs": [],
   "source": [
    "if False:\n",
    "    data = OUT_DIR / \"data_{}_set_cover.dat\".format(datetime.today().strftime('%y%m%d'))\n",
    "    out = OUT_DIR / \"results_{}_study_solver_time_sc.csv\".format(datetime.today().strftime('%y%m%d'))\n",
    "    \n",
    "    sc = benchmark(\"model_set_cover.py\", data, \"cplex\", \"glpk\", \"gurobi\", n=50, save=True, out=out)\n",
    "else:\n",
    "    sc = pd.read_csv(r\"results/results_231012_study_solver_time_sc.csv\")\n",
    "\n",
    "sc.quantile()"
   ]
  },
  {
   "cell_type": "code",
   "execution_count": null,
   "id": "458fe6c1-e893-4b6a-8abc-f3613ad7b550",
   "metadata": {},
   "outputs": [],
   "source": [
    "if False:\n",
    "    data = OUT_DIR / \"data_{}_maximum_coverage_10.dat\".format(datetime.today().strftime('%y%m%d'))\n",
    "    out = OUT_DIR / \"results_{}_study_solver_time_mc10.csv\".format(datetime.today().strftime('%y%m%d'))\n",
    "    \n",
    "    mc10 = benchmark(\"model_maximum_coverage.py\", data, \"cplex\", \"glpk\", \"gurobi\", n=50, save=True, out=out) \n",
    "else:\n",
    "    mc10 = pd.read_csv(r\"results/results_231012_study_solver_time_mc10.csv\")\n",
    "\n",
    "mc10.quantile()"
   ]
  },
  {
   "cell_type": "code",
   "execution_count": null,
   "id": "83af833b-e356-44a7-ae8c-626406180792",
   "metadata": {},
   "outputs": [],
   "source": [
    "if False:\n",
    "    data = OUT_DIR / \"data_{}_maximum_coverage_25.dat\".format(datetime.today().strftime('%y%m%d'))\n",
    "    out = OUT_DIR / \"results_{}_study_solver_time_mc25.csv\".format(datetime.today().strftime('%y%m%d'))\n",
    "    \n",
    "    mc25 = benchmark(\"model_maximum_coverage.py\", data, \"cplex\", \"glpk\", \"gurobi\", n=50, save=True, out=out) \n",
    "else:\n",
    "    mc25 = pd.read_csv(r\"results/results_231012_study_solver_time_mc25.csv\")\n",
    "\n",
    "mc25.quantile()"
   ]
  },
  {
   "cell_type": "code",
   "execution_count": null,
   "id": "029cadd6-e6b4-4be3-acf0-618484830da3",
   "metadata": {},
   "outputs": [],
   "source": [
    "if False:\n",
    "    data = OUT_DIR / \"data_{}_maximum_coverage_50.dat\".format(datetime.today().strftime('%y%m%d'))\n",
    "    out = OUT_DIR / \"results_{}_study_solver_time_mc50.csv\".format(datetime.today().strftime('%y%m%d'))\n",
    "    \n",
    "    mc50 = benchmark(\"model_maximum_coverage.py\", data, \"cplex\", \"glpk\", \"gurobi\", n=50, save=True, out=out) \n",
    "else:\n",
    "    mc50 = pd.read_csv(r\"results/results_231012_study_solver_time_mc50.csv\")\n",
    "\n",
    "mc50.quantile()"
   ]
  },
  {
   "cell_type": "markdown",
   "id": "b3cdfb4b-a2c1-443c-8719-1753faccc356",
   "metadata": {},
   "source": [
    "### Summarize results"
   ]
  },
  {
   "cell_type": "code",
   "execution_count": null,
   "id": "59833e59-1691-42d3-b1d7-1ca2e21c9773",
   "metadata": {},
   "outputs": [],
   "source": [
    "from uncertainties import ufloat\n",
    "\n",
    "entries = [\n",
    "    (\"SC\", r\"results/results_231012_study_solver_time_sc.csv\"),\n",
    "    (\"MC K=10\", r\"results/results_231012_study_solver_time_mc10.csv\"),\n",
    "    (\"MC K=25\", r\"results/results_231012_study_solver_time_mc25.csv\"),\n",
    "    (\"MC K=50\", r\"results/results_231012_study_solver_time_mc50.csv\")\n",
    "]\n",
    "\n",
    "with open(OUT_DIR /\"results_231012_study_solver_summary.csv\", \"w+\") as f:\n",
    "            \n",
    "    for problem, file in entries:\n",
    "        tmp = pd.read_csv(file)\n",
    "        line = f\"{problem}\"\n",
    "        mean = tmp.mean()\n",
    "        std = tmp.std()\n",
    "        for solver in mean.index:\n",
    "            line += \", {:.2uS}\".format(ufloat(mean[solver],1.96*std[solver]))\n",
    "        f.write(line + '\\n')"
   ]
  },
  {
   "cell_type": "code",
   "execution_count": null,
   "id": "135b3e71-1b54-488e-b7c3-32a8c030dd17",
   "metadata": {},
   "outputs": [],
   "source": [
    "fname = OUT_DIR / \"results_231012_study_solver_summary.csv\"\n",
    "!type {fname}"
   ]
  },
  {
   "cell_type": "code",
   "execution_count": null,
   "id": "9817dd51-3141-4585-9eae-e40ad2f456a2",
   "metadata": {},
   "outputs": [],
   "source": []
  }
 ],
 "metadata": {
  "celltoolbar": "Tags",
  "kernelspec": {
   "display_name": "Python 3 (ipykernel)",
   "language": "python",
   "name": "python3"
  },
  "language_info": {
   "codemirror_mode": {
    "name": "ipython",
    "version": 3
   },
   "file_extension": ".py",
   "mimetype": "text/x-python",
   "name": "python",
   "nbconvert_exporter": "python",
   "pygments_lexer": "ipython3",
   "version": "3.11.1"
  }
 },
 "nbformat": 4,
 "nbformat_minor": 5
}
